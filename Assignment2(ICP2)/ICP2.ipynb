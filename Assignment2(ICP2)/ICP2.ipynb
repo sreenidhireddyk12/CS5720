{
  "nbformat": 4,
  "nbformat_minor": 0,
  "metadata": {
    "colab": {
      "provenance": []
    },
    "kernelspec": {
      "name": "python3",
      "display_name": "Python 3"
    },
    "language_info": {
      "name": "python"
    }
  },
  "cells": [
    {
      "cell_type": "markdown",
      "source": [
        "Student name: Sreenidhi reddy kalakonda\n",
        "\n",
        "700# : 700771953\n",
        "\n",
        "ICP2"
      ],
      "metadata": {
        "id": "5YnPaQnXFQUB"
      }
    },
    {
      "cell_type": "code",
      "execution_count": null,
      "metadata": {
        "colab": {
          "base_uri": "https://localhost:8080/"
        },
        "id": "HiL_8koM3qEm",
        "outputId": "cb6d5db4-c13c-4d02-f654-e8841e53aa45"
      },
      "outputs": [
        {
          "output_type": "stream",
          "name": "stdout",
          "text": [
            "Total number of employees: 4\n",
            "Average salary of all employees: 72500.0\n",
            "Fulltime Employee Details: Name - michael, Department - Data analyst, Salary - 70000\n"
          ]
        }
      ],
      "source": [
        "#1. Create a class Employee and then do the following\n",
        "#  Creating  a class Employee\n",
        "class Employee:\n",
        "    # Data member to count the number of Employees (a)\n",
        "    employee_count = 0  # Class variable to track the total number of employees\n",
        "    total_salary = 0  # Class variable to store the cumulative salary of all employees\n",
        "\n",
        "    # then using Constructor to initialize name, family, salary, and department (b)\n",
        "    def __init__(self, name, family, salary, department):\n",
        "        self.name = name\n",
        "        self.family = family\n",
        "        self.salary = salary\n",
        "        self.department = department\n",
        "        # Increment the employee count each time an instance is created\n",
        "        Employee.employee_count += 1\n",
        "        # Add the salary to the total salary of all employees\n",
        "        Employee.total_salary += salary\n",
        "\n",
        "    # This Function to calculate and return the average salary (c)\n",
        "    @classmethod\n",
        "    def average_salary(cls):\n",
        "        # Calculate the average only if there are employees\n",
        "        if cls.employee_count > 0:\n",
        "            return cls.total_salary / cls.employee_count\n",
        "        return 0  # Return 0 if no employees exist\n",
        "\n",
        "#  Creating a Fulltime Employee class that inherits from Employee(d)\n",
        "class FulltimeEmployee(Employee):\n",
        "    def __init__(self, name, family, salary, department):\n",
        "        # we call the parent class constructor to initialize properties\n",
        "        super().__init__(name, family, salary, department)\n",
        "\n",
        "# Creating  instances of Employee and FulltimeEmployee classes and call their member functions(e)\n",
        "# Creating Employee instances\n",
        "employee1 = Employee(\"shayla\", \"smith\", 58000, \"Software development\")\n",
        "employee2 = Employee(\"kamal\", \"Anderson\", 72000, \"Marketing Analytics\")\n",
        "employee2 = Employee(\"dave\", \"Johnson\", 90000, \"Human Resources\")\n",
        "\n",
        "# Creating FulltimeEmployee instance\n",
        "fulltime_employee1 = FulltimeEmployee(\"michael\", \"jackson\", 70000, \"Data analyst\")\n",
        "\n",
        "# Print the total number of employees (from a)\n",
        "print(f\"Total number of employees: {Employee.employee_count}\")\n",
        "\n",
        "# Calculate and print the average salary (from c)\n",
        "print(f\"Average salary of all employees: {Employee.average_salary()}\")\n",
        "\n",
        "# Print details of the FulltimeEmployee instance (inherits properties from Employee)\n",
        "print(f\"Fulltime Employee Details: Name - {fulltime_employee1.name}, \"\n",
        "      f\"Department - {fulltime_employee1.department}, Salary - {fulltime_employee1.salary}\")\n"
      ]
    },
    {
      "cell_type": "code",
      "source": [
        "import numpy as np"
      ],
      "metadata": {
        "id": "Q06HXSe6-Ag9"
      },
      "execution_count": null,
      "outputs": []
    },
    {
      "cell_type": "code",
      "source": [
        "#2. Numpy\n",
        "# first we are Creating a random vector of size 20 with float values in the range 1-20\n",
        "random_vector = np.random.uniform(1, 20, 20)\n",
        "print(\"Original random vector (size 20):\")\n",
        "print(random_vector)\n",
        "\n",
        "# then  Reshaping the vector to a 4x5 matrix\n",
        "reshaped_matrix = random_vector.reshape(4, 5)\n",
        "print(\"\\nReshaped matrix (4x5):\")\n",
        "print(reshaped_matrix)\n",
        "\n",
        "# after that  Replace the maximum value in each row with 0 (axis=1), without using a for loop\n",
        "# Use broadcasting to find the max in each row and replace it with 0\n",
        "max_in_rows = np.max(reshaped_matrix, axis=1, keepdims=True)  # this Finds the max in each row\n",
        "reshaped_matrix[reshaped_matrix == max_in_rows] = 0           # and then replaces the  max values with 0\n",
        "print(\"\\nMatrix after replacing max in each row with 0:\")\n",
        "print(reshaped_matrix)\n"
      ],
      "metadata": {
        "colab": {
          "base_uri": "https://localhost:8080/"
        },
        "id": "3d6SVkPi82ZK",
        "outputId": "b924a381-8f8c-4668-ce5d-d9c9b725f286"
      },
      "execution_count": null,
      "outputs": [
        {
          "output_type": "stream",
          "name": "stdout",
          "text": [
            "Original random vector (size 20):\n",
            "[ 8.11045485  3.72284496  4.56720894  4.49776425 14.92995584  4.91431226\n",
            "  6.0311795  14.9282281   8.17156387 14.47695486  7.99720304  8.93456093\n",
            " 18.11319476 17.50784424 17.5817939  14.21160354  7.05669077 18.41492527\n",
            " 16.2984432  14.9174407 ]\n",
            "\n",
            "Reshaped matrix (4x5):\n",
            "[[ 8.11045485  3.72284496  4.56720894  4.49776425 14.92995584]\n",
            " [ 4.91431226  6.0311795  14.9282281   8.17156387 14.47695486]\n",
            " [ 7.99720304  8.93456093 18.11319476 17.50784424 17.5817939 ]\n",
            " [14.21160354  7.05669077 18.41492527 16.2984432  14.9174407 ]]\n",
            "\n",
            "Matrix after replacing max in each row with 0:\n",
            "[[ 8.11045485  3.72284496  4.56720894  4.49776425  0.        ]\n",
            " [ 4.91431226  6.0311795   0.          8.17156387 14.47695486]\n",
            " [ 7.99720304  8.93456093  0.         17.50784424 17.5817939 ]\n",
            " [14.21160354  7.05669077  0.         16.2984432  14.9174407 ]]\n"
          ]
        }
      ]
    },
    {
      "cell_type": "markdown",
      "source": [
        "VEDIO LINK:\n",
        "https://1drv.ms/v/c/932e708434d17605/ESj2HgZTim9PnfxXdBCJ3EQBxvuNJ-uWyjcUpcF_ftv2Ag?e=s9h4hq"
      ],
      "metadata": {
        "id": "RPw4ZTyiFNOs"
      }
    }
  ]
}