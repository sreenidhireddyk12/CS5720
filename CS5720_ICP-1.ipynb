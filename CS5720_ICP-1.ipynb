{
  "nbformat": 4,
  "nbformat_minor": 0,
  "metadata": {
    "colab": {
      "provenance": []
    },
    "kernelspec": {
      "name": "python3",
      "display_name": "Python 3"
    },
    "language_info": {
      "name": "python"
    }
  },
  "cells": [
    {
      "cell_type": "markdown",
      "source": [
        "1. Write a program that takes two strings from the user: first_name, last_name. Pass these variables to\n",
        "fullname function that should return the (full name).\n",
        " For example:\n",
        "  First_name = “your first name”, last_name = “your last name”\n",
        "  Full_name = “your full name”\n",
        "   Write function named “string_alternative” that returns every other char in the full_name string.\n",
        "Str = “Good evening”\n",
        "Output: Go vnn\n"
      ],
      "metadata": {
        "id": "IHYKN67CWUOt"
      }
    },
    {
      "cell_type": "code",
      "execution_count": null,
      "metadata": {
        "colab": {
          "base_uri": "https://localhost:8080/"
        },
        "id": "G2shQB6c9udQ",
        "outputId": "e5444d82-7004-4beb-e6b3-0a10b6515098"
      },
      "outputs": [
        {
          "output_type": "stream",
          "name": "stdout",
          "text": [
            "Enter your first name: neural\n",
            "Enter your last name: network\n",
            "Full Name: neural network\n",
            "String with every other character: nua ewr\n"
          ]
        }
      ],
      "source": [
        "# combine first and last names into full name\n",
        "def fullname(first_name, last_name):\n",
        "    return f\"{first_name} {last_name}\"\n",
        "\n",
        "# Function to return every other character\n",
        "def string_alternative(input_string):\n",
        "    return input_string[::2]\n",
        "\n",
        "\n",
        "def main():\n",
        "\n",
        "    first_name = input(\"Enter your first name: \").strip()\n",
        "    last_name = input(\"Enter your last name: \").strip()\n",
        "\n",
        "\n",
        "    full_name = fullname(first_name, last_name)\n",
        "    print(f\"Full Name: {full_name}\")\n",
        "\n",
        "    # Getting the every other  character\n",
        "    alt_string = string_alternative(full_name)\n",
        "    print(f\"String with every other character: {alt_string}\")\n",
        "\n",
        "\n",
        "if __name__ == \"__main__\":\n",
        "    main()\n"
      ]
    },
    {
      "cell_type": "markdown",
      "source": [
        "2. Write a python program to find the wordcount in a file (input.txt) for each line and then print the output.\n",
        " Finally store the output in output.txt file."
      ],
      "metadata": {
        "id": "vpXAlij7WkdT"
      }
    },
    {
      "cell_type": "code",
      "source": [
        "from google.colab import files\n",
        "uploaded = files.upload()"
      ],
      "metadata": {
        "colab": {
          "base_uri": "https://localhost:8080/",
          "height": 73
        },
        "id": "eIh4MTNsKisE",
        "outputId": "2b270f6c-6a1d-497e-9508-e3da4723060c"
      },
      "execution_count": null,
      "outputs": [
        {
          "output_type": "display_data",
          "data": {
            "text/plain": [
              "<IPython.core.display.HTML object>"
            ],
            "text/html": [
              "\n",
              "     <input type=\"file\" id=\"files-ebd803f8-a465-41e1-b845-c5e4c3b93c63\" name=\"files[]\" multiple disabled\n",
              "        style=\"border:none\" />\n",
              "     <output id=\"result-ebd803f8-a465-41e1-b845-c5e4c3b93c63\">\n",
              "      Upload widget is only available when the cell has been executed in the\n",
              "      current browser session. Please rerun this cell to enable.\n",
              "      </output>\n",
              "      <script>// Copyright 2017 Google LLC\n",
              "//\n",
              "// Licensed under the Apache License, Version 2.0 (the \"License\");\n",
              "// you may not use this file except in compliance with the License.\n",
              "// You may obtain a copy of the License at\n",
              "//\n",
              "//      http://www.apache.org/licenses/LICENSE-2.0\n",
              "//\n",
              "// Unless required by applicable law or agreed to in writing, software\n",
              "// distributed under the License is distributed on an \"AS IS\" BASIS,\n",
              "// WITHOUT WARRANTIES OR CONDITIONS OF ANY KIND, either express or implied.\n",
              "// See the License for the specific language governing permissions and\n",
              "// limitations under the License.\n",
              "\n",
              "/**\n",
              " * @fileoverview Helpers for google.colab Python module.\n",
              " */\n",
              "(function(scope) {\n",
              "function span(text, styleAttributes = {}) {\n",
              "  const element = document.createElement('span');\n",
              "  element.textContent = text;\n",
              "  for (const key of Object.keys(styleAttributes)) {\n",
              "    element.style[key] = styleAttributes[key];\n",
              "  }\n",
              "  return element;\n",
              "}\n",
              "\n",
              "// Max number of bytes which will be uploaded at a time.\n",
              "const MAX_PAYLOAD_SIZE = 100 * 1024;\n",
              "\n",
              "function _uploadFiles(inputId, outputId) {\n",
              "  const steps = uploadFilesStep(inputId, outputId);\n",
              "  const outputElement = document.getElementById(outputId);\n",
              "  // Cache steps on the outputElement to make it available for the next call\n",
              "  // to uploadFilesContinue from Python.\n",
              "  outputElement.steps = steps;\n",
              "\n",
              "  return _uploadFilesContinue(outputId);\n",
              "}\n",
              "\n",
              "// This is roughly an async generator (not supported in the browser yet),\n",
              "// where there are multiple asynchronous steps and the Python side is going\n",
              "// to poll for completion of each step.\n",
              "// This uses a Promise to block the python side on completion of each step,\n",
              "// then passes the result of the previous step as the input to the next step.\n",
              "function _uploadFilesContinue(outputId) {\n",
              "  const outputElement = document.getElementById(outputId);\n",
              "  const steps = outputElement.steps;\n",
              "\n",
              "  const next = steps.next(outputElement.lastPromiseValue);\n",
              "  return Promise.resolve(next.value.promise).then((value) => {\n",
              "    // Cache the last promise value to make it available to the next\n",
              "    // step of the generator.\n",
              "    outputElement.lastPromiseValue = value;\n",
              "    return next.value.response;\n",
              "  });\n",
              "}\n",
              "\n",
              "/**\n",
              " * Generator function which is called between each async step of the upload\n",
              " * process.\n",
              " * @param {string} inputId Element ID of the input file picker element.\n",
              " * @param {string} outputId Element ID of the output display.\n",
              " * @return {!Iterable<!Object>} Iterable of next steps.\n",
              " */\n",
              "function* uploadFilesStep(inputId, outputId) {\n",
              "  const inputElement = document.getElementById(inputId);\n",
              "  inputElement.disabled = false;\n",
              "\n",
              "  const outputElement = document.getElementById(outputId);\n",
              "  outputElement.innerHTML = '';\n",
              "\n",
              "  const pickedPromise = new Promise((resolve) => {\n",
              "    inputElement.addEventListener('change', (e) => {\n",
              "      resolve(e.target.files);\n",
              "    });\n",
              "  });\n",
              "\n",
              "  const cancel = document.createElement('button');\n",
              "  inputElement.parentElement.appendChild(cancel);\n",
              "  cancel.textContent = 'Cancel upload';\n",
              "  const cancelPromise = new Promise((resolve) => {\n",
              "    cancel.onclick = () => {\n",
              "      resolve(null);\n",
              "    };\n",
              "  });\n",
              "\n",
              "  // Wait for the user to pick the files.\n",
              "  const files = yield {\n",
              "    promise: Promise.race([pickedPromise, cancelPromise]),\n",
              "    response: {\n",
              "      action: 'starting',\n",
              "    }\n",
              "  };\n",
              "\n",
              "  cancel.remove();\n",
              "\n",
              "  // Disable the input element since further picks are not allowed.\n",
              "  inputElement.disabled = true;\n",
              "\n",
              "  if (!files) {\n",
              "    return {\n",
              "      response: {\n",
              "        action: 'complete',\n",
              "      }\n",
              "    };\n",
              "  }\n",
              "\n",
              "  for (const file of files) {\n",
              "    const li = document.createElement('li');\n",
              "    li.append(span(file.name, {fontWeight: 'bold'}));\n",
              "    li.append(span(\n",
              "        `(${file.type || 'n/a'}) - ${file.size} bytes, ` +\n",
              "        `last modified: ${\n",
              "            file.lastModifiedDate ? file.lastModifiedDate.toLocaleDateString() :\n",
              "                                    'n/a'} - `));\n",
              "    const percent = span('0% done');\n",
              "    li.appendChild(percent);\n",
              "\n",
              "    outputElement.appendChild(li);\n",
              "\n",
              "    const fileDataPromise = new Promise((resolve) => {\n",
              "      const reader = new FileReader();\n",
              "      reader.onload = (e) => {\n",
              "        resolve(e.target.result);\n",
              "      };\n",
              "      reader.readAsArrayBuffer(file);\n",
              "    });\n",
              "    // Wait for the data to be ready.\n",
              "    let fileData = yield {\n",
              "      promise: fileDataPromise,\n",
              "      response: {\n",
              "        action: 'continue',\n",
              "      }\n",
              "    };\n",
              "\n",
              "    // Use a chunked sending to avoid message size limits. See b/62115660.\n",
              "    let position = 0;\n",
              "    do {\n",
              "      const length = Math.min(fileData.byteLength - position, MAX_PAYLOAD_SIZE);\n",
              "      const chunk = new Uint8Array(fileData, position, length);\n",
              "      position += length;\n",
              "\n",
              "      const base64 = btoa(String.fromCharCode.apply(null, chunk));\n",
              "      yield {\n",
              "        response: {\n",
              "          action: 'append',\n",
              "          file: file.name,\n",
              "          data: base64,\n",
              "        },\n",
              "      };\n",
              "\n",
              "      let percentDone = fileData.byteLength === 0 ?\n",
              "          100 :\n",
              "          Math.round((position / fileData.byteLength) * 100);\n",
              "      percent.textContent = `${percentDone}% done`;\n",
              "\n",
              "    } while (position < fileData.byteLength);\n",
              "  }\n",
              "\n",
              "  // All done.\n",
              "  yield {\n",
              "    response: {\n",
              "      action: 'complete',\n",
              "    }\n",
              "  };\n",
              "}\n",
              "\n",
              "scope.google = scope.google || {};\n",
              "scope.google.colab = scope.google.colab || {};\n",
              "scope.google.colab._files = {\n",
              "  _uploadFiles,\n",
              "  _uploadFilesContinue,\n",
              "};\n",
              "})(self);\n",
              "</script> "
            ]
          },
          "metadata": {}
        },
        {
          "output_type": "stream",
          "name": "stdout",
          "text": [
            "Saving input.txt to input.txt\n"
          ]
        }
      ]
    },
    {
      "cell_type": "code",
      "source": [
        "from collections import Counter\n",
        "\n",
        "def word_count_file(input_file, output_file):\n",
        "    try:\n",
        "\n",
        "        with open(input_file, 'r') as file:\n",
        "            lines = file.readlines()\n",
        "\n",
        "\n",
        "        word_counter = Counter()\n",
        "\n",
        "\n",
        "        with open(output_file, 'w') as file:\n",
        "            file.write(\"Original Lines:\\n\")\n",
        "            file.writelines(lines)\n",
        "            file.write(\"\\nWord_Count:\\n\")\n",
        "\n",
        "\n",
        "            for line in lines:\n",
        "                words = line.strip().split()\n",
        "                word_counter.update(words)\n",
        "\n",
        "            # Write the word count to the output file\n",
        "            for word, count in word_counter.items():\n",
        "                file.write(f\"{word}: {count}\\n\")\n",
        "\n",
        "        print(f\"Word counts written to '{output_file}' successfully!\")\n",
        "\n",
        "    except FileNotFoundError:\n",
        "        print(f\"Error: The file '{input_file}' does not exist.\")\n",
        "    except Exception as e:\n",
        "        print(f\"An error occurred: {e}\")\n",
        "\n",
        "# Main function to execute\n",
        "if __name__ == \"__main__\":\n",
        "    input_filename = \"input.txt\"\n",
        "    output_filename = \"output.txt\"\n",
        "    word_count_file(input_filename, output_filename)\n",
        "\n",
        "\n"
      ],
      "metadata": {
        "colab": {
          "base_uri": "https://localhost:8080/"
        },
        "id": "Wga6ZTa9-SdM",
        "outputId": "bc2a9dae-a84b-430d-99d6-b43c9364f4cc"
      },
      "execution_count": null,
      "outputs": [
        {
          "output_type": "stream",
          "name": "stdout",
          "text": [
            "Word counts written to 'output.txt' successfully!\n"
          ]
        }
      ]
    },
    {
      "cell_type": "code",
      "source": [
        "from google.colab import files\n",
        "files.download('output.txt')\n"
      ],
      "metadata": {
        "colab": {
          "base_uri": "https://localhost:8080/",
          "height": 17
        },
        "id": "NkL7W25mLSP8",
        "outputId": "f86e4825-0b84-4c70-d25f-0b99c681dffe"
      },
      "execution_count": null,
      "outputs": [
        {
          "output_type": "display_data",
          "data": {
            "text/plain": [
              "<IPython.core.display.Javascript object>"
            ],
            "application/javascript": [
              "\n",
              "    async function download(id, filename, size) {\n",
              "      if (!google.colab.kernel.accessAllowed) {\n",
              "        return;\n",
              "      }\n",
              "      const div = document.createElement('div');\n",
              "      const label = document.createElement('label');\n",
              "      label.textContent = `Downloading \"${filename}\": `;\n",
              "      div.appendChild(label);\n",
              "      const progress = document.createElement('progress');\n",
              "      progress.max = size;\n",
              "      div.appendChild(progress);\n",
              "      document.body.appendChild(div);\n",
              "\n",
              "      const buffers = [];\n",
              "      let downloaded = 0;\n",
              "\n",
              "      const channel = await google.colab.kernel.comms.open(id);\n",
              "      // Send a message to notify the kernel that we're ready.\n",
              "      channel.send({})\n",
              "\n",
              "      for await (const message of channel.messages) {\n",
              "        // Send a message to notify the kernel that we're ready.\n",
              "        channel.send({})\n",
              "        if (message.buffers) {\n",
              "          for (const buffer of message.buffers) {\n",
              "            buffers.push(buffer);\n",
              "            downloaded += buffer.byteLength;\n",
              "            progress.value = downloaded;\n",
              "          }\n",
              "        }\n",
              "      }\n",
              "      const blob = new Blob(buffers, {type: 'application/binary'});\n",
              "      const a = document.createElement('a');\n",
              "      a.href = window.URL.createObjectURL(blob);\n",
              "      a.download = filename;\n",
              "      div.appendChild(a);\n",
              "      a.click();\n",
              "      div.remove();\n",
              "    }\n",
              "  "
            ]
          },
          "metadata": {}
        },
        {
          "output_type": "display_data",
          "data": {
            "text/plain": [
              "<IPython.core.display.Javascript object>"
            ],
            "application/javascript": [
              "download(\"download_50a5132b-46fb-4178-912c-127131701643\", \"output.txt\", 123)"
            ]
          },
          "metadata": {}
        }
      ]
    },
    {
      "cell_type": "markdown",
      "source": [
        "3. Write a program, which reads heights (inches.) of customers into a list and convert these\n",
        "heights to centimeters in a separate list using:\n",
        "1) Nested Interactive loop.\n",
        "2) List comprehensions"
      ],
      "metadata": {
        "id": "320NYGkhWqdC"
      }
    },
    {
      "cell_type": "code",
      "source": [
        "# Method 1: Using Nested Interactive Loop\n",
        "def convert_heights_to_cm():\n",
        "\n",
        "    heights_in_inches = []\n",
        "\n",
        "\n",
        "    n = int(input(\"Enter the number of customers: \"))\n",
        "    for i in range(n):\n",
        "        height = float(input(f\"Enter height of customer {i + 1} in inches: \"))\n",
        "        heights_in_inches.append(height)\n",
        "\n",
        "\n",
        "    heights_in_cm = []\n",
        "    for height in heights_in_inches:\n",
        "\n",
        "        cm = round(height * 2.54, 2)\n",
        "        heights_in_cm.append(cm)\n",
        "\n",
        "    return heights_in_cm\n",
        "\n",
        "\n",
        "result = convert_heights_to_cm()\n",
        "print(\"Converted Heights in Centimeters:\", result)\n",
        "\n"
      ],
      "metadata": {
        "colab": {
          "base_uri": "https://localhost:8080/"
        },
        "id": "4S9hoU7vMcDP",
        "outputId": "e590d22e-1eda-4043-b2b6-720b588bccae"
      },
      "execution_count": null,
      "outputs": [
        {
          "output_type": "stream",
          "name": "stdout",
          "text": [
            "Enter the number of customers: 5\n",
            "Enter height of customer 1 in inches: 166\n",
            "Enter height of customer 2 in inches: 141\n",
            "Enter height of customer 3 in inches: 123\n",
            "Enter height of customer 4 in inches: 146\n",
            "Enter height of customer 5 in inches: 154\n",
            "Converted Heights in Centimeters: [421.64, 358.14, 312.42, 370.84, 391.16]\n"
          ]
        }
      ]
    },
    {
      "cell_type": "code",
      "source": [
        "# Method 2: Using List Comprehension\n",
        "def convert_heights_to_cm_comprehension():\n",
        "\n",
        "    n = int(input(\"Enter the number of customers: \"))\n",
        "    heights_in_inches = [float(input(f\"Enter height of customer {i + 1} in inches: \")) for i in range(n)]\n",
        "\n",
        "\n",
        "    heights_in_cm = [round(height * 2.54, 2) for height in heights_in_inches]\n",
        "    return heights_in_cm\n",
        "\n",
        "\n",
        "result_comprehension = convert_heights_to_cm_comprehension()\n",
        "print(\"Converted Heights in Centimeters:\", result_comprehension)\n"
      ],
      "metadata": {
        "colab": {
          "base_uri": "https://localhost:8080/"
        },
        "id": "N0l7dINbPGAm",
        "outputId": "966bbd26-d4c1-42b0-84b9-853f15adf26c"
      },
      "execution_count": null,
      "outputs": [
        {
          "output_type": "stream",
          "name": "stdout",
          "text": [
            "Enter the number of customers: 4\n",
            "Enter height of customer 1 in inches: 151\n",
            "Enter height of customer 2 in inches: 172\n",
            "Enter height of customer 3 in inches: 186\n",
            "Enter height of customer 4 in inches: 127\n",
            "Converted Heights in Centimeters: [383.54, 436.88, 472.44, 322.58]\n"
          ]
        }
      ]
    }
  ]
}